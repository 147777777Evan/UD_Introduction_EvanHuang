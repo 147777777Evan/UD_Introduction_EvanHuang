{
 "cells": [
  {
   "cell_type": "markdown",
   "id": "38e188a5",
   "metadata": {},
   "source": [
    "# Exercise 00\n",
    "Write a piece of code that allocates a list of 20 integers and initializes each element by its index multiplied by 5. Print the result."
   ]
  },
  {
   "cell_type": "code",
   "execution_count": 4,
   "id": "01aa4f35",
   "metadata": {},
   "outputs": [
    {
     "name": "stdout",
     "output_type": "stream",
     "text": [
      "[0, 5, 10, 15, 20, 25, 30, 35, 40, 45, 50, 55, 60, 65, 70, 75, 80, 85, 90, 95]\n",
      "20\n"
     ]
    }
   ],
   "source": [
    "my_list = []\n",
    "for i in range (20):\n",
    "    my_list.append(i*5)\n",
    "print(my_list)\n",
    "print(len(my_list))"
   ]
  },
  {
   "cell_type": "markdown",
   "id": "529d91ae",
   "metadata": {},
   "source": [
    "# Exercise 01\n",
    "Define a function that takes an integer as input, prints  all integers that it is divisable by, and returns the largest one."
   ]
  },
  {
   "cell_type": "code",
   "execution_count": 11,
   "id": "30e79132",
   "metadata": {},
   "outputs": [
    {
     "name": "stdout",
     "output_type": "stream",
     "text": [
      "48149\n"
     ]
    }
   ],
   "source": [
    "def my_function(n):\n",
    "    num = 1\n",
    "    for i in range(1,n//2+1):\n",
    "        if n % i == 0:\n",
    "            num = i\n",
    "    return num\n",
    "\n",
    "result = my_function(144447)\n",
    "print(result)"
   ]
  },
  {
   "cell_type": "markdown",
   "id": "cfbe30d4",
   "metadata": {},
   "source": [
    "# Exercise 02\n",
    "- create a dictionary with 6 keys and values of your choice\n",
    "- write a function that takes a dictionary and a value as input and returns whether the value occurs as a key in the dictionary\n",
    "- write a function that takes a dictionary as input, and returns the dictionary but the keys are swapped with their values (resolve the issue if a value occurs twice!)"
   ]
  },
  {
   "cell_type": "code",
   "execution_count": 26,
   "id": "2123f1c6",
   "metadata": {},
   "outputs": [],
   "source": [
    "my_dict = {'aa': 'bb', 'cc': 'dd', 'ee': 'ff', 'gg': 'hh', 'ii': 'jj', 'kk': 'll'}\n",
    "\n",
    "def my_function(my_dict, value):\n",
    "    for key in my_dict.keys():\n",
    "        if my_dict(key) == value:\n",
    "            return true\n",
    "        return false\n",
    "\n",
    "def swap_key_and_value(my_dict):\n",
    "    new_dict = {}\n",
    "    for key,value in my_dict.items():\n",
    "        if value not in new_dict:\n",
    "            new_dict[value] = key\n",
    "        else: \n",
    "            if isinstance(new_dict[value], list):\n",
    "                new_dict[value].append(key)\n",
    "            else:\n",
    "                new_dict[value] = [new_dict[value], key]\n",
    "    return new_dict\n",
    "            \n"
   ]
  },
  {
   "cell_type": "markdown",
   "id": "b4b4e426",
   "metadata": {},
   "source": [
    "# Exercise 03\n",
    "Define a function that creates a dictionary of the first n fibonacci numbers as values paired with their indices as keys. "
   ]
  },
  {
   "cell_type": "code",
   "execution_count": null,
   "id": "7845b5a4",
   "metadata": {},
   "outputs": [],
   "source": []
  }
 ],
 "metadata": {
  "kernelspec": {
   "display_name": "Python 3 (ipykernel)",
   "language": "python",
   "name": "python3"
  },
  "language_info": {
   "codemirror_mode": {
    "name": "ipython",
    "version": 3
   },
   "file_extension": ".py",
   "mimetype": "text/x-python",
   "name": "python",
   "nbconvert_exporter": "python",
   "pygments_lexer": "ipython3",
   "version": "3.11.5"
  }
 },
 "nbformat": 4,
 "nbformat_minor": 5
}
